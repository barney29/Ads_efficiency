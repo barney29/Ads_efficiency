{
 "cells": [
  {
   "cell_type": "code",
   "execution_count": 37,
   "id": "f4113c0f",
   "metadata": {},
   "outputs": [],
   "source": [
    "import pandas as pd\n",
    "import numpy as np\n",
    "import matplotlib.pyplot as plt\n",
    "import sys\n",
    "sys.path.append('../src')"
   ]
  },
  {
   "cell_type": "code",
   "execution_count": 38,
   "id": "c8764ee0",
   "metadata": {},
   "outputs": [
    {
     "data": {
      "text/html": [
       "<div>\n",
       "<style scoped>\n",
       "    .dataframe tbody tr th:only-of-type {\n",
       "        vertical-align: middle;\n",
       "    }\n",
       "\n",
       "    .dataframe tbody tr th {\n",
       "        vertical-align: top;\n",
       "    }\n",
       "\n",
       "    .dataframe thead th {\n",
       "        text-align: right;\n",
       "    }\n",
       "</style>\n",
       "<table border=\"1\" class=\"dataframe\">\n",
       "  <thead>\n",
       "    <tr style=\"text-align: right;\">\n",
       "      <th></th>\n",
       "      <th>Date</th>\n",
       "      <th>Post link</th>\n",
       "      <th>View</th>\n",
       "      <th>Post Hour</th>\n",
       "      <th>Bank</th>\n",
       "      <th>Time of day</th>\n",
       "    </tr>\n",
       "  </thead>\n",
       "  <tbody>\n",
       "    <tr>\n",
       "      <th>0</th>\n",
       "      <td>26/9/2023</td>\n",
       "      <td>https://t.me/tikvahethiopia/81734</td>\n",
       "      <td>239800</td>\n",
       "      <td>10:18</td>\n",
       "      <td>BOA</td>\n",
       "      <td>night</td>\n",
       "    </tr>\n",
       "    <tr>\n",
       "      <th>1</th>\n",
       "      <td>19/9/2023</td>\n",
       "      <td>https://t.me/tikvahethiopia/81606</td>\n",
       "      <td>258400</td>\n",
       "      <td>6:53</td>\n",
       "      <td>BOA</td>\n",
       "      <td>night</td>\n",
       "    </tr>\n",
       "    <tr>\n",
       "      <th>2</th>\n",
       "      <td>15/9/2023</td>\n",
       "      <td>https://t.me/tikvahethiopia/81502</td>\n",
       "      <td>269400</td>\n",
       "      <td>3:56</td>\n",
       "      <td>BOA</td>\n",
       "      <td>evening</td>\n",
       "    </tr>\n",
       "    <tr>\n",
       "      <th>3</th>\n",
       "      <td>8/9/2023</td>\n",
       "      <td>https://t.me/tikvahethiopia/81338</td>\n",
       "      <td>219400</td>\n",
       "      <td>10:50</td>\n",
       "      <td>BOA</td>\n",
       "      <td>afternoon</td>\n",
       "    </tr>\n",
       "    <tr>\n",
       "      <th>4</th>\n",
       "      <td>5/9/2023</td>\n",
       "      <td>https://t.me/tikvahethiopia/81252</td>\n",
       "      <td>255900</td>\n",
       "      <td>1:19</td>\n",
       "      <td>BOA</td>\n",
       "      <td>afternoon</td>\n",
       "    </tr>\n",
       "  </tbody>\n",
       "</table>\n",
       "</div>"
      ],
      "text/plain": [
       "        Date                          Post link    View Post Hour Bank  \\\n",
       "0  26/9/2023  https://t.me/tikvahethiopia/81734  239800     10:18  BOA   \n",
       "1  19/9/2023  https://t.me/tikvahethiopia/81606  258400      6:53  BOA   \n",
       "2  15/9/2023  https://t.me/tikvahethiopia/81502  269400      3:56  BOA   \n",
       "3   8/9/2023  https://t.me/tikvahethiopia/81338  219400     10:50  BOA   \n",
       "4   5/9/2023  https://t.me/tikvahethiopia/81252  255900      1:19  BOA   \n",
       "\n",
       "  Time of day  \n",
       "0      night   \n",
       "1      night   \n",
       "2    evening   \n",
       "3   afternoon  \n",
       "4   afternoon  "
      ]
     },
     "execution_count": 38,
     "metadata": {},
     "output_type": "execute_result"
    }
   ],
   "source": [
    "df = pd.read_csv('./../data/BANKS AD DATA.csv')\n",
    "df.head()"
   ]
  },
  {
   "cell_type": "code",
   "execution_count": 39,
   "id": "92c8dcab",
   "metadata": {
    "scrolled": true
   },
   "outputs": [
    {
     "name": "stdout",
     "output_type": "stream",
     "text": [
      "<class 'pandas.core.frame.DataFrame'>\n",
      "RangeIndex: 115 entries, 0 to 114\n",
      "Data columns (total 6 columns):\n",
      " #   Column       Non-Null Count  Dtype \n",
      "---  ------       --------------  ----- \n",
      " 0   Date         115 non-null    object\n",
      " 1   Post link    115 non-null    object\n",
      " 2   View         115 non-null    int64 \n",
      " 3   Post Hour    115 non-null    object\n",
      " 4   Bank         115 non-null    object\n",
      " 5   Time of day  21 non-null     object\n",
      "dtypes: int64(1), object(5)\n",
      "memory usage: 5.5+ KB\n"
     ]
    }
   ],
   "source": [
    "df.info()"
   ]
  },
  {
   "cell_type": "code",
   "execution_count": 40,
   "id": "e24cbd57",
   "metadata": {
    "scrolled": true
   },
   "outputs": [
    {
     "name": "stderr",
     "output_type": "stream",
     "text": [
      "/tmp/ipykernel_16607/1266037980.py:2: UserWarning: Parsing dates in %d/%m/%Y format when dayfirst=False (the default) was specified. Pass `dayfirst=True` or specify a format to silence this warning.\n",
      "  df['Date'] = df['Date'].apply(lambda x: pd.to_datetime(x) if '/' in x else x)\n"
     ]
    }
   ],
   "source": [
    "# since the date doesn't match doing manually\n",
    "df['Date'] = df['Date'].apply(lambda x: pd.to_datetime(x) if '/' in x else x)\n"
   ]
  },
  {
   "cell_type": "code",
   "execution_count": 42,
   "id": "7d978888",
   "metadata": {},
   "outputs": [
    {
     "data": {
      "text/html": [
       "<div>\n",
       "<style scoped>\n",
       "    .dataframe tbody tr th:only-of-type {\n",
       "        vertical-align: middle;\n",
       "    }\n",
       "\n",
       "    .dataframe tbody tr th {\n",
       "        vertical-align: top;\n",
       "    }\n",
       "\n",
       "    .dataframe thead th {\n",
       "        text-align: right;\n",
       "    }\n",
       "</style>\n",
       "<table border=\"1\" class=\"dataframe\">\n",
       "  <thead>\n",
       "    <tr style=\"text-align: right;\">\n",
       "      <th></th>\n",
       "      <th>Date</th>\n",
       "      <th>Post link</th>\n",
       "      <th>View</th>\n",
       "      <th>Post Hour</th>\n",
       "      <th>Bank</th>\n",
       "      <th>Time of day</th>\n",
       "    </tr>\n",
       "  </thead>\n",
       "  <tbody>\n",
       "    <tr>\n",
       "      <th>0</th>\n",
       "      <td>2023-09-26 00:00:00+00:00</td>\n",
       "      <td>https://t.me/tikvahethiopia/81734</td>\n",
       "      <td>239800</td>\n",
       "      <td>10:18</td>\n",
       "      <td>BOA</td>\n",
       "      <td>night</td>\n",
       "    </tr>\n",
       "    <tr>\n",
       "      <th>1</th>\n",
       "      <td>2023-09-19 00:00:00+00:00</td>\n",
       "      <td>https://t.me/tikvahethiopia/81606</td>\n",
       "      <td>258400</td>\n",
       "      <td>6:53</td>\n",
       "      <td>BOA</td>\n",
       "      <td>night</td>\n",
       "    </tr>\n",
       "    <tr>\n",
       "      <th>2</th>\n",
       "      <td>2023-09-15 00:00:00+00:00</td>\n",
       "      <td>https://t.me/tikvahethiopia/81502</td>\n",
       "      <td>269400</td>\n",
       "      <td>3:56</td>\n",
       "      <td>BOA</td>\n",
       "      <td>evening</td>\n",
       "    </tr>\n",
       "    <tr>\n",
       "      <th>3</th>\n",
       "      <td>2023-08-09 00:00:00+00:00</td>\n",
       "      <td>https://t.me/tikvahethiopia/81338</td>\n",
       "      <td>219400</td>\n",
       "      <td>10:50</td>\n",
       "      <td>BOA</td>\n",
       "      <td>afternoon</td>\n",
       "    </tr>\n",
       "    <tr>\n",
       "      <th>4</th>\n",
       "      <td>2023-05-09 00:00:00+00:00</td>\n",
       "      <td>https://t.me/tikvahethiopia/81252</td>\n",
       "      <td>255900</td>\n",
       "      <td>1:19</td>\n",
       "      <td>BOA</td>\n",
       "      <td>afternoon</td>\n",
       "    </tr>\n",
       "    <tr>\n",
       "      <th>...</th>\n",
       "      <td>...</td>\n",
       "      <td>...</td>\n",
       "      <td>...</td>\n",
       "      <td>...</td>\n",
       "      <td>...</td>\n",
       "      <td>...</td>\n",
       "    </tr>\n",
       "    <tr>\n",
       "      <th>110</th>\n",
       "      <td>2024-05-14 07:49:21+00:00</td>\n",
       "      <td>https://t.me/tikvahethiopia/87636</td>\n",
       "      <td>251011</td>\n",
       "      <td>07:49</td>\n",
       "      <td>banksinethiopia</td>\n",
       "      <td>NaN</td>\n",
       "    </tr>\n",
       "    <tr>\n",
       "      <th>111</th>\n",
       "      <td>2024-05-14 07:49:21+00:00</td>\n",
       "      <td>https://t.me/tikvahethiopia/87636</td>\n",
       "      <td>251011</td>\n",
       "      <td>07:49</td>\n",
       "      <td>BankofAbyssina</td>\n",
       "      <td>NaN</td>\n",
       "    </tr>\n",
       "    <tr>\n",
       "      <th>112</th>\n",
       "      <td>2024-05-17 08:08:16+00:00</td>\n",
       "      <td>https://t.me/tikvahethiopia/87693</td>\n",
       "      <td>242611</td>\n",
       "      <td>08:08</td>\n",
       "      <td>bankinginethiopia</td>\n",
       "      <td>NaN</td>\n",
       "    </tr>\n",
       "    <tr>\n",
       "      <th>113</th>\n",
       "      <td>2024-05-17 08:08:16+00:00</td>\n",
       "      <td>https://t.me/tikvahethiopia/87693</td>\n",
       "      <td>242611</td>\n",
       "      <td>08:08</td>\n",
       "      <td>banksinethiopia</td>\n",
       "      <td>NaN</td>\n",
       "    </tr>\n",
       "    <tr>\n",
       "      <th>114</th>\n",
       "      <td>2024-05-21 12:40:51+00:00</td>\n",
       "      <td>https://t.me/tikvahethiopia/87794</td>\n",
       "      <td>245431</td>\n",
       "      <td>12:40</td>\n",
       "      <td>Abyssinia_Bank</td>\n",
       "      <td>NaN</td>\n",
       "    </tr>\n",
       "  </tbody>\n",
       "</table>\n",
       "<p>115 rows × 6 columns</p>\n",
       "</div>"
      ],
      "text/plain": [
       "                         Date                          Post link    View  \\\n",
       "0   2023-09-26 00:00:00+00:00  https://t.me/tikvahethiopia/81734  239800   \n",
       "1   2023-09-19 00:00:00+00:00  https://t.me/tikvahethiopia/81606  258400   \n",
       "2   2023-09-15 00:00:00+00:00  https://t.me/tikvahethiopia/81502  269400   \n",
       "3   2023-08-09 00:00:00+00:00  https://t.me/tikvahethiopia/81338  219400   \n",
       "4   2023-05-09 00:00:00+00:00  https://t.me/tikvahethiopia/81252  255900   \n",
       "..                        ...                                ...     ...   \n",
       "110 2024-05-14 07:49:21+00:00  https://t.me/tikvahethiopia/87636  251011   \n",
       "111 2024-05-14 07:49:21+00:00  https://t.me/tikvahethiopia/87636  251011   \n",
       "112 2024-05-17 08:08:16+00:00  https://t.me/tikvahethiopia/87693  242611   \n",
       "113 2024-05-17 08:08:16+00:00  https://t.me/tikvahethiopia/87693  242611   \n",
       "114 2024-05-21 12:40:51+00:00  https://t.me/tikvahethiopia/87794  245431   \n",
       "\n",
       "    Post Hour               Bank Time of day  \n",
       "0       10:18                BOA      night   \n",
       "1        6:53                BOA      night   \n",
       "2        3:56                BOA    evening   \n",
       "3       10:50                BOA   afternoon  \n",
       "4        1:19                BOA   afternoon  \n",
       "..        ...                ...         ...  \n",
       "110     07:49    banksinethiopia         NaN  \n",
       "111     07:49     BankofAbyssina         NaN  \n",
       "112     08:08  bankinginethiopia         NaN  \n",
       "113     08:08    banksinethiopia         NaN  \n",
       "114     12:40     Abyssinia_Bank         NaN  \n",
       "\n",
       "[115 rows x 6 columns]"
      ]
     },
     "execution_count": 42,
     "metadata": {},
     "output_type": "execute_result"
    }
   ],
   "source": [
    "df['Date'] = pd.to_datetime(df['Date'])\n",
    "df"
   ]
  },
  {
   "cell_type": "code",
   "execution_count": 45,
   "id": "a968aab2",
   "metadata": {},
   "outputs": [
    {
     "data": {
      "image/png": "[encoded data removed]",
      "text/plain": [
       "<Figure size 1296x360 with 1 Axes>"
      ]
     },
     "metadata": {
      "needs_background": "light"
     },
     "output_type": "display_data"
    }
   ],
   "source": [
    "min = df['Date'].min()\n",
    "max = df['Date'].max()\n",
    "fig, ax = plt.subplots()\n",
    "\n",
    "title=f'{min} - {max} Telegram Ads view'\n",
    "df['View'].plot(kind='bar', title=title, figsize=(18,5))\n",
    "fig.autofmt_xdate() \n",
    "plt.show()"
   ]
  },
  {
   "cell_type": "code",
   "execution_count": 46,
   "id": "727dcec6",
   "metadata": {},
   "outputs": [
    {
     "data": {
      "text/plain": [
       "222667"
      ]
     },
     "execution_count": 46,
     "metadata": {},
     "output_type": "execute_result"
    }
   ],
   "source": [
    "_range = df['View'].max() - df['View'].min()\n",
    "_range"
   ]
  },
  {
   "cell_type": "code",
   "execution_count": 47,
   "id": "e773003a",
   "metadata": {},
   "outputs": [
    {
     "data": {
      "text/plain": [
       "261713.69565217392"
      ]
     },
     "execution_count": 47,
     "metadata": {},
     "output_type": "execute_result"
    }
   ],
   "source": [
    "mean = df['View'].mean()\n",
    "mean"
   ]
  },
  {
   "cell_type": "code",
   "execution_count": 51,
   "id": "1291b43b",
   "metadata": {},
   "outputs": [
    {
     "data": {
      "text/plain": [
       "352067"
      ]
     },
     "execution_count": 51,
     "metadata": {},
     "output_type": "execute_result"
    }
   ],
   "source": [
    "maxview = df['View'].max()\n",
    "maxview"
   ]
  },
  {
   "cell_type": "code",
   "execution_count": 48,
   "id": "91084acf",
   "metadata": {},
   "outputs": [],
   "source": [
    "df.set_index('Date', inplace=True)"
   ]
  },
  {
   "cell_type": "code",
   "execution_count": 49,
   "id": "987e9870",
   "metadata": {},
   "outputs": [
    {
     "data": {
      "text/plain": [
       "<AxesSubplot:title={'center':'Time series view trend'}, xlabel='Date', ylabel='Views'>"
      ]
     },
     "execution_count": 49,
     "metadata": {},
     "output_type": "execute_result"
    },
    {
     "data": {
      "image/png": "[encoded data removed]",
      "text/plain": [
       "<Figure size 864x288 with 1 Axes>"
      ]
     },
     "metadata": {
      "needs_background": "light"
     },
     "output_type": "display_data"
    }
   ],
   "source": [
    "df['View'].plot(title='Time series view trend', figsize=(12,4), ylabel='Views')"
   ]
  },
  {
   "cell_type": "code",
   "execution_count": 53,
   "id": "b5fb4423",
   "metadata": {},
   "outputs": [
    {
     "data": {
      "text/html": [
       "<div>\n",
       "<style scoped>\n",
       "    .dataframe tbody tr th:only-of-type {\n",
       "        vertical-align: middle;\n",
       "    }\n",
       "\n",
       "    .dataframe tbody tr th {\n",
       "        vertical-align: top;\n",
       "    }\n",
       "\n",
       "    .dataframe thead th {\n",
       "        text-align: right;\n",
       "    }\n",
       "</style>\n",
       "<table border=\"1\" class=\"dataframe\">\n",
       "  <thead>\n",
       "    <tr style=\"text-align: right;\">\n",
       "      <th></th>\n",
       "      <th>Post link</th>\n",
       "      <th>View</th>\n",
       "      <th>Post Hour</th>\n",
       "    </tr>\n",
       "    <tr>\n",
       "      <th>Bank</th>\n",
       "      <th></th>\n",
       "      <th></th>\n",
       "      <th></th>\n",
       "    </tr>\n",
       "  </thead>\n",
       "  <tbody>\n",
       "    <tr>\n",
       "      <th>Abyssinia_Bank</th>\n",
       "      <td>1</td>\n",
       "      <td>1</td>\n",
       "      <td>1</td>\n",
       "    </tr>\n",
       "    <tr>\n",
       "      <th>Apollodigitalbank</th>\n",
       "      <td>20</td>\n",
       "      <td>20</td>\n",
       "      <td>20</td>\n",
       "    </tr>\n",
       "    <tr>\n",
       "      <th>Apollodigitalproduct</th>\n",
       "      <td>20</td>\n",
       "      <td>20</td>\n",
       "      <td>20</td>\n",
       "    </tr>\n",
       "    <tr>\n",
       "      <th>BOA</th>\n",
       "      <td>21</td>\n",
       "      <td>21</td>\n",
       "      <td>21</td>\n",
       "    </tr>\n",
       "    <tr>\n",
       "      <th>BankofAbyssina</th>\n",
       "      <td>5</td>\n",
       "      <td>5</td>\n",
       "      <td>5</td>\n",
       "    </tr>\n",
       "    <tr>\n",
       "      <th>BoAATM</th>\n",
       "      <td>2</td>\n",
       "      <td>2</td>\n",
       "      <td>2</td>\n",
       "    </tr>\n",
       "    <tr>\n",
       "      <th>bankinginethiopia</th>\n",
       "      <td>21</td>\n",
       "      <td>21</td>\n",
       "      <td>21</td>\n",
       "    </tr>\n",
       "    <tr>\n",
       "      <th>banksinethiopia</th>\n",
       "      <td>25</td>\n",
       "      <td>25</td>\n",
       "      <td>25</td>\n",
       "    </tr>\n",
       "  </tbody>\n",
       "</table>\n",
       "</div>"
      ],
      "text/plain": [
       "                      Post link  View  Post Hour\n",
       "Bank                                            \n",
       "Abyssinia_Bank                1     1          1\n",
       "Apollodigitalbank            20    20         20\n",
       "Apollodigitalproduct         20    20         20\n",
       "BOA                          21    21         21\n",
       "BankofAbyssina                5     5          5\n",
       "BoAATM                        2     2          2\n",
       "bankinginethiopia            21    21         21\n",
       "banksinethiopia              25    25         25"
      ]
     },
     "execution_count": 53,
     "metadata": {},
     "output_type": "execute_result"
    }
   ],
   "source": [
    "newdf = df.drop(columns=['Time of day'], axis=1)\n",
    "newdf.groupby('Bank').count()"
   ]
  },
  {
   "cell_type": "code",
   "execution_count": null,
   "id": "cf5b2ef1",
   "metadata": {},
   "outputs": [],
   "source": []
  }
 ],
 "metadata": {
  "kernelspec": {
   "display_name": "Python 3 (ipykernel)",
   "language": "python",
   "name": "python3"
  },
  "language_info": {
   "codemirror_mode": {
    "name": "ipython",
    "version": 3
   },
   "file_extension": ".py",
   "mimetype": "text/x-python",
   "name": "python",
   "nbconvert_exporter": "python",
   "pygments_lexer": "ipython3",
   "version": "3.10.12"
  }
 },
 "nbformat": 4,
 "nbformat_minor": 5
}
