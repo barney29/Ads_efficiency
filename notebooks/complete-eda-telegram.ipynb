{
 "cells": [
  {
   "cell_type": "code",
   "execution_count": 1,
   "id": "6fb31908",
   "metadata": {},
   "outputs": [],
   "source": [
    "import pandas as pd\n",
    "import numpy as np\n",
    "import matplotlib.pyplot as plt\n",
    "import sys\n",
    "sys.path.append('../src')"
   ]
  },
  {
   "cell_type": "code",
   "execution_count": 2,
   "id": "b027cbc7",
   "metadata": {},
   "outputs": [],
   "source": [
    "from db_conn import DbDriver"
   ]
  },
  {
   "cell_type": "code",
   "execution_count": 3,
   "id": "f147f4c8",
   "metadata": {},
   "outputs": [
    {
     "name": "stdout",
     "output_type": "stream",
     "text": [
      "Database connected\n",
      "Database closed\n"
     ]
    }
   ],
   "source": [
    "db = DbDriver()\n",
    "db.connect_db()\n",
    "df = db.query_excute('SELECT * FROM telegram_posts')\n",
    "db.close_db()"
   ]
  },
  {
   "cell_type": "code",
   "execution_count": 4,
   "id": "df27cc08",
   "metadata": {},
   "outputs": [
    {
     "name": "stdout",
     "output_type": "stream",
     "text": [
      "<class 'pandas.core.frame.DataFrame'>\n",
      "RangeIndex: 149 entries, 0 to 148\n",
      "Data columns (total 8 columns):\n",
      " #   Column       Non-Null Count  Dtype                    \n",
      "---  ------       --------------  -----                    \n",
      " 0   Date         149 non-null    datetime64[ns, UTC+03:00]\n",
      " 1   post_id      149 non-null    int64                    \n",
      " 2   post_link    149 non-null    object                   \n",
      " 3   views        149 non-null    int64                    \n",
      " 4   Post Hour    149 non-null    object                   \n",
      " 5   Tag          149 non-null    object                   \n",
      " 6   Bank         149 non-null    object                   \n",
      " 7   Time of day  149 non-null    object                   \n",
      "dtypes: datetime64[ns, UTC+03:00](1), int64(2), object(5)\n",
      "memory usage: 9.4+ KB\n"
     ]
    }
   ],
   "source": [
    "df.info()"
   ]
  },
  {
   "cell_type": "code",
   "execution_count": 5,
   "id": "7585a72a",
   "metadata": {},
   "outputs": [
    {
     "data": {
      "text/html": [
       "<div>\n",
       "<style scoped>\n",
       "    .dataframe tbody tr th:only-of-type {\n",
       "        vertical-align: middle;\n",
       "    }\n",
       "\n",
       "    .dataframe tbody tr th {\n",
       "        vertical-align: top;\n",
       "    }\n",
       "\n",
       "    .dataframe thead th {\n",
       "        text-align: right;\n",
       "    }\n",
       "</style>\n",
       "<table border=\"1\" class=\"dataframe\">\n",
       "  <thead>\n",
       "    <tr style=\"text-align: right;\">\n",
       "      <th></th>\n",
       "      <th>Date</th>\n",
       "      <th>post_id</th>\n",
       "      <th>post_link</th>\n",
       "      <th>views</th>\n",
       "      <th>Post Hour</th>\n",
       "      <th>Tag</th>\n",
       "      <th>Bank</th>\n",
       "      <th>Time of day</th>\n",
       "    </tr>\n",
       "  </thead>\n",
       "  <tbody>\n",
       "    <tr>\n",
       "      <th>0</th>\n",
       "      <td>2023-01-25 11:38:24+03:00</td>\n",
       "      <td>76075</td>\n",
       "      <td>https://t.me/tikvahethiopia/76075</td>\n",
       "      <td>299132</td>\n",
       "      <td>08:38 AM</td>\n",
       "      <td>Apollodigitalproduct</td>\n",
       "      <td>BOA</td>\n",
       "      <td>NaN</td>\n",
       "    </tr>\n",
       "    <tr>\n",
       "      <th>1</th>\n",
       "      <td>2023-01-26 09:49:54+03:00</td>\n",
       "      <td>76089</td>\n",
       "      <td>https://t.me/tikvahethiopia/76089</td>\n",
       "      <td>129464</td>\n",
       "      <td>06:49 AM</td>\n",
       "      <td>Apollodigitalproduct</td>\n",
       "      <td>BOA</td>\n",
       "      <td>NaN</td>\n",
       "    </tr>\n",
       "    <tr>\n",
       "      <th>2</th>\n",
       "      <td>2023-01-28 20:28:59+03:00</td>\n",
       "      <td>76176</td>\n",
       "      <td>https://t.me/tikvahethiopia/76176</td>\n",
       "      <td>347725</td>\n",
       "      <td>05:28 PM</td>\n",
       "      <td>Apollodigitalproduct</td>\n",
       "      <td>BOA</td>\n",
       "      <td>NaN</td>\n",
       "    </tr>\n",
       "    <tr>\n",
       "      <th>3</th>\n",
       "      <td>2023-01-30 14:00:01+03:00</td>\n",
       "      <td>76186</td>\n",
       "      <td>https://t.me/tikvahethiopia/76186</td>\n",
       "      <td>365370</td>\n",
       "      <td>11:00 AM</td>\n",
       "      <td>Apollodigitalproduct</td>\n",
       "      <td>BOA</td>\n",
       "      <td>NaN</td>\n",
       "    </tr>\n",
       "    <tr>\n",
       "      <th>4</th>\n",
       "      <td>2023-01-31 20:32:27+03:00</td>\n",
       "      <td>76193</td>\n",
       "      <td>https://t.me/tikvahethiopia/76193</td>\n",
       "      <td>356196</td>\n",
       "      <td>05:32 PM</td>\n",
       "      <td>Apollodigitalproduct</td>\n",
       "      <td>BOA</td>\n",
       "      <td>NaN</td>\n",
       "    </tr>\n",
       "  </tbody>\n",
       "</table>\n",
       "</div>"
      ],
      "text/plain": [
       "                       Date  post_id                          post_link  \\\n",
       "0 2023-01-25 11:38:24+03:00    76075  https://t.me/tikvahethiopia/76075   \n",
       "1 2023-01-26 09:49:54+03:00    76089  https://t.me/tikvahethiopia/76089   \n",
       "2 2023-01-28 20:28:59+03:00    76176  https://t.me/tikvahethiopia/76176   \n",
       "3 2023-01-30 14:00:01+03:00    76186  https://t.me/tikvahethiopia/76186   \n",
       "4 2023-01-31 20:32:27+03:00    76193  https://t.me/tikvahethiopia/76193   \n",
       "\n",
       "    views Post Hour                   Tag Bank Time of day  \n",
       "0  299132  08:38 AM  Apollodigitalproduct  BOA         NaN  \n",
       "1  129464  06:49 AM  Apollodigitalproduct  BOA         NaN  \n",
       "2  347725  05:28 PM  Apollodigitalproduct  BOA         NaN  \n",
       "3  365370  11:00 AM  Apollodigitalproduct  BOA         NaN  \n",
       "4  356196  05:32 PM  Apollodigitalproduct  BOA         NaN  "
      ]
     },
     "execution_count": 5,
     "metadata": {},
     "output_type": "execute_result"
    }
   ],
   "source": [
    "df.head()"
   ]
  },
  {
   "cell_type": "code",
   "execution_count": 6,
   "id": "e6c6e1b3",
   "metadata": {},
   "outputs": [
    {
     "data": {
      "text/html": [
       "<div>\n",
       "<style scoped>\n",
       "    .dataframe tbody tr th:only-of-type {\n",
       "        vertical-align: middle;\n",
       "    }\n",
       "\n",
       "    .dataframe tbody tr th {\n",
       "        vertical-align: top;\n",
       "    }\n",
       "\n",
       "    .dataframe thead th {\n",
       "        text-align: right;\n",
       "    }\n",
       "</style>\n",
       "<table border=\"1\" class=\"dataframe\">\n",
       "  <thead>\n",
       "    <tr style=\"text-align: right;\">\n",
       "      <th></th>\n",
       "      <th>Date</th>\n",
       "      <th>post_id</th>\n",
       "      <th>post_link</th>\n",
       "      <th>views</th>\n",
       "      <th>Post Hour</th>\n",
       "      <th>Tag</th>\n",
       "      <th>Time of day</th>\n",
       "    </tr>\n",
       "    <tr>\n",
       "      <th>Bank</th>\n",
       "      <th></th>\n",
       "      <th></th>\n",
       "      <th></th>\n",
       "      <th></th>\n",
       "      <th></th>\n",
       "      <th></th>\n",
       "      <th></th>\n",
       "    </tr>\n",
       "  </thead>\n",
       "  <tbody>\n",
       "    <tr>\n",
       "      <th>BOA</th>\n",
       "      <td>77</td>\n",
       "      <td>77</td>\n",
       "      <td>77</td>\n",
       "      <td>77</td>\n",
       "      <td>77</td>\n",
       "      <td>77</td>\n",
       "      <td>77</td>\n",
       "    </tr>\n",
       "    <tr>\n",
       "      <th>CBE</th>\n",
       "      <td>55</td>\n",
       "      <td>55</td>\n",
       "      <td>55</td>\n",
       "      <td>55</td>\n",
       "      <td>55</td>\n",
       "      <td>55</td>\n",
       "      <td>55</td>\n",
       "    </tr>\n",
       "    <tr>\n",
       "      <th>GBE</th>\n",
       "      <td>17</td>\n",
       "      <td>17</td>\n",
       "      <td>17</td>\n",
       "      <td>17</td>\n",
       "      <td>17</td>\n",
       "      <td>17</td>\n",
       "      <td>17</td>\n",
       "    </tr>\n",
       "  </tbody>\n",
       "</table>\n",
       "</div>"
      ],
      "text/plain": [
       "      Date  post_id  post_link  views  Post Hour  Tag  Time of day\n",
       "Bank                                                              \n",
       "BOA     77       77         77     77         77   77           77\n",
       "CBE     55       55         55     55         55   55           55\n",
       "GBE     17       17         17     17         17   17           17"
      ]
     },
     "execution_count": 6,
     "metadata": {},
     "output_type": "execute_result"
    }
   ],
   "source": [
    "df.groupby('Bank').count()"
   ]
  },
  {
   "cell_type": "code",
   "execution_count": 7,
   "id": "4c31dbcb",
   "metadata": {},
   "outputs": [
    {
     "data": {
      "text/html": [
       "<div>\n",
       "<style scoped>\n",
       "    .dataframe tbody tr th:only-of-type {\n",
       "        vertical-align: middle;\n",
       "    }\n",
       "\n",
       "    .dataframe tbody tr th {\n",
       "        vertical-align: top;\n",
       "    }\n",
       "\n",
       "    .dataframe thead th {\n",
       "        text-align: right;\n",
       "    }\n",
       "</style>\n",
       "<table border=\"1\" class=\"dataframe\">\n",
       "  <thead>\n",
       "    <tr style=\"text-align: right;\">\n",
       "      <th></th>\n",
       "      <th>Date</th>\n",
       "      <th>Post link</th>\n",
       "      <th>View</th>\n",
       "      <th>Post Hour</th>\n",
       "      <th>Bank</th>\n",
       "      <th>Time of day</th>\n",
       "    </tr>\n",
       "  </thead>\n",
       "  <tbody>\n",
       "    <tr>\n",
       "      <th>0</th>\n",
       "      <td>26/9/2023</td>\n",
       "      <td>https://t.me/tikvahethiopia/81734</td>\n",
       "      <td>239800</td>\n",
       "      <td>10:18</td>\n",
       "      <td>BOA</td>\n",
       "      <td>night</td>\n",
       "    </tr>\n",
       "    <tr>\n",
       "      <th>1</th>\n",
       "      <td>19/9/2023</td>\n",
       "      <td>https://t.me/tikvahethiopia/81606</td>\n",
       "      <td>258400</td>\n",
       "      <td>6:53</td>\n",
       "      <td>BOA</td>\n",
       "      <td>night</td>\n",
       "    </tr>\n",
       "    <tr>\n",
       "      <th>2</th>\n",
       "      <td>15/9/2023</td>\n",
       "      <td>https://t.me/tikvahethiopia/81502</td>\n",
       "      <td>269400</td>\n",
       "      <td>3:56</td>\n",
       "      <td>BOA</td>\n",
       "      <td>evening</td>\n",
       "    </tr>\n",
       "    <tr>\n",
       "      <th>3</th>\n",
       "      <td>8/9/2023</td>\n",
       "      <td>https://t.me/tikvahethiopia/81338</td>\n",
       "      <td>219400</td>\n",
       "      <td>10:50</td>\n",
       "      <td>BOA</td>\n",
       "      <td>afternoon</td>\n",
       "    </tr>\n",
       "    <tr>\n",
       "      <th>4</th>\n",
       "      <td>5/9/2023</td>\n",
       "      <td>https://t.me/tikvahethiopia/81252</td>\n",
       "      <td>255900</td>\n",
       "      <td>1:19</td>\n",
       "      <td>BOA</td>\n",
       "      <td>afternoon</td>\n",
       "    </tr>\n",
       "  </tbody>\n",
       "</table>\n",
       "</div>"
      ],
      "text/plain": [
       "        Date                          Post link    View Post Hour Bank  \\\n",
       "0  26/9/2023  https://t.me/tikvahethiopia/81734  239800     10:18  BOA   \n",
       "1  19/9/2023  https://t.me/tikvahethiopia/81606  258400      6:53  BOA   \n",
       "2  15/9/2023  https://t.me/tikvahethiopia/81502  269400      3:56  BOA   \n",
       "3   8/9/2023  https://t.me/tikvahethiopia/81338  219400     10:50  BOA   \n",
       "4   5/9/2023  https://t.me/tikvahethiopia/81252  255900      1:19  BOA   \n",
       "\n",
       "  Time of day  \n",
       "0      night   \n",
       "1      night   \n",
       "2    evening   \n",
       "3   afternoon  \n",
       "4   afternoon  "
      ]
     },
     "execution_count": 7,
     "metadata": {},
     "output_type": "execute_result"
    }
   ],
   "source": [
    "# Importing old data to see how Time of day assigned\n",
    "old_df = pd.read_csv('../data/BANKS AD DATA.csv')\n",
    "old_df.head()"
   ]
  },
  {
   "cell_type": "raw",
   "id": "73414eb2",
   "metadata": {},
   "source": [
    "Since CBE's message in tikvah include news focusing only BOA and GBE"
   ]
  },
  {
   "cell_type": "code",
   "execution_count": 8,
   "id": "a7d82dba",
   "metadata": {},
   "outputs": [
    {
     "name": "stderr",
     "output_type": "stream",
     "text": [
      "/tmp/ipykernel_9776/1652932554.py:1: UserWarning: Parsing dates in %d/%m/%Y format when dayfirst=False (the default) was specified. Pass `dayfirst=True` or specify a format to silence this warning.\n",
      "  old_df['Date'] = pd.to_datetime(old_df['Date'])\n"
     ]
    }
   ],
   "source": [
    "old_df['Date'] = pd.to_datetime(old_df['Date'])\n",
    "old_df.set_index('Date', inplace=True)"
   ]
  },
  {
   "cell_type": "code",
   "execution_count": 9,
   "id": "dff98d3d",
   "metadata": {
    "scrolled": true
   },
   "outputs": [
    {
     "data": {
      "text/html": [
       "<div>\n",
       "<style scoped>\n",
       "    .dataframe tbody tr th:only-of-type {\n",
       "        vertical-align: middle;\n",
       "    }\n",
       "\n",
       "    .dataframe tbody tr th {\n",
       "        vertical-align: top;\n",
       "    }\n",
       "\n",
       "    .dataframe thead th {\n",
       "        text-align: right;\n",
       "    }\n",
       "</style>\n",
       "<table border=\"1\" class=\"dataframe\">\n",
       "  <thead>\n",
       "    <tr style=\"text-align: right;\">\n",
       "      <th></th>\n",
       "      <th>Post link</th>\n",
       "      <th>View</th>\n",
       "      <th>Post Hour</th>\n",
       "      <th>Bank</th>\n",
       "    </tr>\n",
       "    <tr>\n",
       "      <th>Time of day</th>\n",
       "      <th></th>\n",
       "      <th></th>\n",
       "      <th></th>\n",
       "      <th></th>\n",
       "    </tr>\n",
       "  </thead>\n",
       "  <tbody>\n",
       "    <tr>\n",
       "      <th>afternoon</th>\n",
       "      <td>https://t.me/tikvahethiopia/4722</td>\n",
       "      <td>160400</td>\n",
       "      <td>10:20</td>\n",
       "      <td>BOA</td>\n",
       "    </tr>\n",
       "    <tr>\n",
       "      <th>evening</th>\n",
       "      <td>https://t.me/tikvahethiopia/5339</td>\n",
       "      <td>170200</td>\n",
       "      <td>11:38</td>\n",
       "      <td>BOA</td>\n",
       "    </tr>\n",
       "    <tr>\n",
       "      <th>morning</th>\n",
       "      <td>https://t.me/tikvahethiopia/66171</td>\n",
       "      <td>207900</td>\n",
       "      <td>3:10</td>\n",
       "      <td>BOA</td>\n",
       "    </tr>\n",
       "    <tr>\n",
       "      <th>night</th>\n",
       "      <td>https://t.me/tikvahethiopia/76089</td>\n",
       "      <td>129400</td>\n",
       "      <td>10:18</td>\n",
       "      <td>BOA</td>\n",
       "    </tr>\n",
       "  </tbody>\n",
       "</table>\n",
       "</div>"
      ],
      "text/plain": [
       "                                     Post link    View Post Hour Bank\n",
       "Time of day                                                          \n",
       "afternoon     https://t.me/tikvahethiopia/4722  160400     10:20  BOA\n",
       "evening       https://t.me/tikvahethiopia/5339  170200     11:38  BOA\n",
       "morning      https://t.me/tikvahethiopia/66171  207900      3:10  BOA\n",
       "night        https://t.me/tikvahethiopia/76089  129400     10:18  BOA"
      ]
     },
     "execution_count": 9,
     "metadata": {},
     "output_type": "execute_result"
    }
   ],
   "source": [
    "old_df.groupby('Time of day').min()"
   ]
  },
  {
   "cell_type": "code",
   "execution_count": 10,
   "id": "f34d2722",
   "metadata": {
    "scrolled": true
   },
   "outputs": [
    {
     "data": {
      "text/html": [
       "<div>\n",
       "<style scoped>\n",
       "    .dataframe tbody tr th:only-of-type {\n",
       "        vertical-align: middle;\n",
       "    }\n",
       "\n",
       "    .dataframe tbody tr th {\n",
       "        vertical-align: top;\n",
       "    }\n",
       "\n",
       "    .dataframe thead th {\n",
       "        text-align: right;\n",
       "    }\n",
       "</style>\n",
       "<table border=\"1\" class=\"dataframe\">\n",
       "  <thead>\n",
       "    <tr style=\"text-align: right;\">\n",
       "      <th></th>\n",
       "      <th>Post link</th>\n",
       "      <th>View</th>\n",
       "      <th>Post Hour</th>\n",
       "      <th>Bank</th>\n",
       "    </tr>\n",
       "    <tr>\n",
       "      <th>Time of day</th>\n",
       "      <th></th>\n",
       "      <th></th>\n",
       "      <th></th>\n",
       "      <th></th>\n",
       "    </tr>\n",
       "  </thead>\n",
       "  <tbody>\n",
       "    <tr>\n",
       "      <th>afternoon</th>\n",
       "      <td>https://t.me/tikvahethiopia/81338</td>\n",
       "      <td>259400</td>\n",
       "      <td>9:02</td>\n",
       "      <td>BOA</td>\n",
       "    </tr>\n",
       "    <tr>\n",
       "      <th>evening</th>\n",
       "      <td>https://t.me/tikvahethiopia/81502</td>\n",
       "      <td>299100</td>\n",
       "      <td>9:32</td>\n",
       "      <td>BOA</td>\n",
       "    </tr>\n",
       "    <tr>\n",
       "      <th>morning</th>\n",
       "      <td>https://t.me/tikvahethiopia/68651</td>\n",
       "      <td>249700</td>\n",
       "      <td>4:43</td>\n",
       "      <td>BOA</td>\n",
       "    </tr>\n",
       "    <tr>\n",
       "      <th>night</th>\n",
       "      <td>https://t.me/tikvahethiopia/81734</td>\n",
       "      <td>258400</td>\n",
       "      <td>9:49</td>\n",
       "      <td>BOA</td>\n",
       "    </tr>\n",
       "  </tbody>\n",
       "</table>\n",
       "</div>"
      ],
      "text/plain": [
       "                                     Post link    View Post Hour Bank\n",
       "Time of day                                                          \n",
       "afternoon    https://t.me/tikvahethiopia/81338  259400      9:02  BOA\n",
       "evening      https://t.me/tikvahethiopia/81502  299100      9:32  BOA\n",
       "morning      https://t.me/tikvahethiopia/68651  249700      4:43  BOA\n",
       "night        https://t.me/tikvahethiopia/81734  258400      9:49  BOA"
      ]
     },
     "execution_count": 10,
     "metadata": {},
     "output_type": "execute_result"
    }
   ],
   "source": [
    "old_df.groupby('Time of day').max()"
   ]
  },
  {
   "cell_type": "raw",
   "id": "fbb18b9c",
   "metadata": {},
   "source": [
    "Conclusion\n",
    "night and evening is almost the same so\n",
    "morning -> 6:00 - 11:59\n",
    "afternoon -> 12:00 - 6:59 pm\n",
    "evening and night -> 7: 00 - 11:59 pm"
   ]
  },
  {
   "cell_type": "code",
   "execution_count": 11,
   "id": "b6571ccb",
   "metadata": {},
   "outputs": [
    {
     "data": {
      "text/html": [
       "<div>\n",
       "<style scoped>\n",
       "    .dataframe tbody tr th:only-of-type {\n",
       "        vertical-align: middle;\n",
       "    }\n",
       "\n",
       "    .dataframe tbody tr th {\n",
       "        vertical-align: top;\n",
       "    }\n",
       "\n",
       "    .dataframe thead th {\n",
       "        text-align: right;\n",
       "    }\n",
       "</style>\n",
       "<table border=\"1\" class=\"dataframe\">\n",
       "  <thead>\n",
       "    <tr style=\"text-align: right;\">\n",
       "      <th></th>\n",
       "      <th>Date</th>\n",
       "      <th>post_id</th>\n",
       "      <th>post_link</th>\n",
       "      <th>views</th>\n",
       "      <th>Post Hour</th>\n",
       "      <th>Tag</th>\n",
       "      <th>Bank</th>\n",
       "      <th>Time of day</th>\n",
       "    </tr>\n",
       "  </thead>\n",
       "  <tbody>\n",
       "    <tr>\n",
       "      <th>0</th>\n",
       "      <td>2023-01-25 11:38:24+03:00</td>\n",
       "      <td>76075</td>\n",
       "      <td>https://t.me/tikvahethiopia/76075</td>\n",
       "      <td>299132</td>\n",
       "      <td>08:38 AM</td>\n",
       "      <td>Apollodigitalproduct</td>\n",
       "      <td>BOA</td>\n",
       "      <td>NaN</td>\n",
       "    </tr>\n",
       "    <tr>\n",
       "      <th>1</th>\n",
       "      <td>2023-01-26 09:49:54+03:00</td>\n",
       "      <td>76089</td>\n",
       "      <td>https://t.me/tikvahethiopia/76089</td>\n",
       "      <td>129464</td>\n",
       "      <td>06:49 AM</td>\n",
       "      <td>Apollodigitalproduct</td>\n",
       "      <td>BOA</td>\n",
       "      <td>NaN</td>\n",
       "    </tr>\n",
       "    <tr>\n",
       "      <th>2</th>\n",
       "      <td>2023-01-28 20:28:59+03:00</td>\n",
       "      <td>76176</td>\n",
       "      <td>https://t.me/tikvahethiopia/76176</td>\n",
       "      <td>347725</td>\n",
       "      <td>05:28 PM</td>\n",
       "      <td>Apollodigitalproduct</td>\n",
       "      <td>BOA</td>\n",
       "      <td>NaN</td>\n",
       "    </tr>\n",
       "    <tr>\n",
       "      <th>3</th>\n",
       "      <td>2023-01-30 14:00:01+03:00</td>\n",
       "      <td>76186</td>\n",
       "      <td>https://t.me/tikvahethiopia/76186</td>\n",
       "      <td>365370</td>\n",
       "      <td>11:00 AM</td>\n",
       "      <td>Apollodigitalproduct</td>\n",
       "      <td>BOA</td>\n",
       "      <td>NaN</td>\n",
       "    </tr>\n",
       "    <tr>\n",
       "      <th>4</th>\n",
       "      <td>2023-01-31 20:32:27+03:00</td>\n",
       "      <td>76193</td>\n",
       "      <td>https://t.me/tikvahethiopia/76193</td>\n",
       "      <td>356196</td>\n",
       "      <td>05:32 PM</td>\n",
       "      <td>Apollodigitalproduct</td>\n",
       "      <td>BOA</td>\n",
       "      <td>NaN</td>\n",
       "    </tr>\n",
       "  </tbody>\n",
       "</table>\n",
       "</div>"
      ],
      "text/plain": [
       "                       Date  post_id                          post_link  \\\n",
       "0 2023-01-25 11:38:24+03:00    76075  https://t.me/tikvahethiopia/76075   \n",
       "1 2023-01-26 09:49:54+03:00    76089  https://t.me/tikvahethiopia/76089   \n",
       "2 2023-01-28 20:28:59+03:00    76176  https://t.me/tikvahethiopia/76176   \n",
       "3 2023-01-30 14:00:01+03:00    76186  https://t.me/tikvahethiopia/76186   \n",
       "4 2023-01-31 20:32:27+03:00    76193  https://t.me/tikvahethiopia/76193   \n",
       "\n",
       "    views Post Hour                   Tag Bank Time of day  \n",
       "0  299132  08:38 AM  Apollodigitalproduct  BOA         NaN  \n",
       "1  129464  06:49 AM  Apollodigitalproduct  BOA         NaN  \n",
       "2  347725  05:28 PM  Apollodigitalproduct  BOA         NaN  \n",
       "3  365370  11:00 AM  Apollodigitalproduct  BOA         NaN  \n",
       "4  356196  05:32 PM  Apollodigitalproduct  BOA         NaN  "
      ]
     },
     "execution_count": 11,
     "metadata": {},
     "output_type": "execute_result"
    }
   ],
   "source": [
    "df.head()"
   ]
  },
  {
   "cell_type": "code",
   "execution_count": 12,
   "id": "d5af22bc",
   "metadata": {},
   "outputs": [],
   "source": [
    "def apply_time_day(hr):\n",
    "    if hr >= '06:00 AM' and hr <= '11:59 AM':\n",
    "        return 'morning'\n",
    "    elif hr >= '12:00 PM' and hr <= '06:59 PM':\n",
    "        return 'afternoon'\n",
    "    elif hr >= '07:00 PM' and hr <= '11:59 PM':\n",
    "        return 'evening'\n",
    "    else:\n",
    "        return 'night'"
   ]
  },
  {
   "cell_type": "code",
   "execution_count": 13,
   "id": "b057448c",
   "metadata": {},
   "outputs": [
    {
     "data": {
      "text/html": [
       "<div>\n",
       "<style scoped>\n",
       "    .dataframe tbody tr th:only-of-type {\n",
       "        vertical-align: middle;\n",
       "    }\n",
       "\n",
       "    .dataframe tbody tr th {\n",
       "        vertical-align: top;\n",
       "    }\n",
       "\n",
       "    .dataframe thead th {\n",
       "        text-align: right;\n",
       "    }\n",
       "</style>\n",
       "<table border=\"1\" class=\"dataframe\">\n",
       "  <thead>\n",
       "    <tr style=\"text-align: right;\">\n",
       "      <th></th>\n",
       "      <th>Date</th>\n",
       "      <th>post_id</th>\n",
       "      <th>post_link</th>\n",
       "      <th>views</th>\n",
       "      <th>Post Hour</th>\n",
       "      <th>Tag</th>\n",
       "      <th>Bank</th>\n",
       "      <th>Time of day</th>\n",
       "    </tr>\n",
       "  </thead>\n",
       "  <tbody>\n",
       "    <tr>\n",
       "      <th>0</th>\n",
       "      <td>2023-01-25 11:38:24+03:00</td>\n",
       "      <td>76075</td>\n",
       "      <td>https://t.me/tikvahethiopia/76075</td>\n",
       "      <td>299132</td>\n",
       "      <td>08:38 AM</td>\n",
       "      <td>Apollodigitalproduct</td>\n",
       "      <td>BOA</td>\n",
       "      <td>morning</td>\n",
       "    </tr>\n",
       "    <tr>\n",
       "      <th>1</th>\n",
       "      <td>2023-01-26 09:49:54+03:00</td>\n",
       "      <td>76089</td>\n",
       "      <td>https://t.me/tikvahethiopia/76089</td>\n",
       "      <td>129464</td>\n",
       "      <td>06:49 AM</td>\n",
       "      <td>Apollodigitalproduct</td>\n",
       "      <td>BOA</td>\n",
       "      <td>morning</td>\n",
       "    </tr>\n",
       "    <tr>\n",
       "      <th>2</th>\n",
       "      <td>2023-01-28 20:28:59+03:00</td>\n",
       "      <td>76176</td>\n",
       "      <td>https://t.me/tikvahethiopia/76176</td>\n",
       "      <td>347725</td>\n",
       "      <td>05:28 PM</td>\n",
       "      <td>Apollodigitalproduct</td>\n",
       "      <td>BOA</td>\n",
       "      <td>night</td>\n",
       "    </tr>\n",
       "    <tr>\n",
       "      <th>3</th>\n",
       "      <td>2023-01-30 14:00:01+03:00</td>\n",
       "      <td>76186</td>\n",
       "      <td>https://t.me/tikvahethiopia/76186</td>\n",
       "      <td>365370</td>\n",
       "      <td>11:00 AM</td>\n",
       "      <td>Apollodigitalproduct</td>\n",
       "      <td>BOA</td>\n",
       "      <td>morning</td>\n",
       "    </tr>\n",
       "    <tr>\n",
       "      <th>4</th>\n",
       "      <td>2023-01-31 20:32:27+03:00</td>\n",
       "      <td>76193</td>\n",
       "      <td>https://t.me/tikvahethiopia/76193</td>\n",
       "      <td>356196</td>\n",
       "      <td>05:32 PM</td>\n",
       "      <td>Apollodigitalproduct</td>\n",
       "      <td>BOA</td>\n",
       "      <td>night</td>\n",
       "    </tr>\n",
       "  </tbody>\n",
       "</table>\n",
       "</div>"
      ],
      "text/plain": [
       "                       Date  post_id                          post_link  \\\n",
       "0 2023-01-25 11:38:24+03:00    76075  https://t.me/tikvahethiopia/76075   \n",
       "1 2023-01-26 09:49:54+03:00    76089  https://t.me/tikvahethiopia/76089   \n",
       "2 2023-01-28 20:28:59+03:00    76176  https://t.me/tikvahethiopia/76176   \n",
       "3 2023-01-30 14:00:01+03:00    76186  https://t.me/tikvahethiopia/76186   \n",
       "4 2023-01-31 20:32:27+03:00    76193  https://t.me/tikvahethiopia/76193   \n",
       "\n",
       "    views Post Hour                   Tag Bank Time of day  \n",
       "0  299132  08:38 AM  Apollodigitalproduct  BOA     morning  \n",
       "1  129464  06:49 AM  Apollodigitalproduct  BOA     morning  \n",
       "2  347725  05:28 PM  Apollodigitalproduct  BOA       night  \n",
       "3  365370  11:00 AM  Apollodigitalproduct  BOA     morning  \n",
       "4  356196  05:32 PM  Apollodigitalproduct  BOA       night  "
      ]
     },
     "execution_count": 13,
     "metadata": {},
     "output_type": "execute_result"
    }
   ],
   "source": [
    "df['Time of day'] = df['Post Hour'].apply(apply_time_day)\n",
    "df.head()"
   ]
  },
  {
   "cell_type": "markdown",
   "id": "823ebacb",
   "metadata": {},
   "source": [
    "# Time Series Analaysis"
   ]
  },
  {
   "cell_type": "markdown",
   "id": "f4503b4c",
   "metadata": {},
   "source": [
    "## BOA"
   ]
  },
  {
   "cell_type": "code",
   "execution_count": 14,
   "id": "785038cd",
   "metadata": {},
   "outputs": [],
   "source": [
    "boa = df[df['Bank'] == 'BOA']\n",
    "boa.set_index('Date', inplace=True)"
   ]
  },
  {
   "cell_type": "code",
   "execution_count": 15,
   "id": "f7dd1bee",
   "metadata": {},
   "outputs": [
    {
     "data": {
      "text/plain": [
       "<AxesSubplot:title={'center':'views between 2023 - 2024/5/24'}, xlabel='Date', ylabel='Views'>"
      ]
     },
     "execution_count": 15,
     "metadata": {},
     "output_type": "execute_result"
    },
    {
     "data": {
      "image/png": "[encoded data removed]",
      "text/plain": [
       "<Figure size 1080x432 with 1 Axes>"
      ]
     },
     "metadata": {
      "needs_background": "light"
     },
     "output_type": "display_data"
    }
   ],
   "source": [
    "boa['views'].plot(ylabel=\"Views\", title=\"views between 2023 - 2024/5/24\",figsize=(15,6))"
   ]
  },
  {
   "cell_type": "markdown",
   "id": "f18d39a2",
   "metadata": {},
   "source": [
    "# GBE"
   ]
  },
  {
   "cell_type": "code",
   "execution_count": 16,
   "id": "2419a80d",
   "metadata": {},
   "outputs": [],
   "source": [
    "gbe = df[df['Bank'] == 'GBE']\n",
    "gbe.set_index('Date', inplace=True)"
   ]
  },
  {
   "cell_type": "code",
   "execution_count": 31,
   "id": "c0363863",
   "metadata": {
    "scrolled": true
   },
   "outputs": [
    {
     "data": {
      "text/plain": [
       "<AxesSubplot:xlabel='Date', ylabel='Views'>"
      ]
     },
     "execution_count": 31,
     "metadata": {},
     "output_type": "execute_result"
    },
    {
     "data": {
      "image/png": "[encoded data removed]",
      "text/plain": [
       "<Figure size 1080x432 with 1 Axes>"
      ]
     },
     "metadata": {
      "needs_background": "light"
     },
     "output_type": "display_data"
    }
   ],
   "source": [
    "gbe['views'].plot(figsize=(15,6), ylabel=\"Views\")"
   ]
  },
  {
   "cell_type": "code",
   "execution_count": 24,
   "id": "f780800f",
   "metadata": {},
   "outputs": [
    {
     "data": {
      "text/plain": [
       "Time of day\n",
       "morning    9\n",
       "night      8\n",
       "Name: post_id, dtype: int64"
      ]
     },
     "execution_count": 24,
     "metadata": {},
     "output_type": "execute_result"
    }
   ],
   "source": [
    "gbe.groupby('Time of day')['post_id'].count()\n"
   ]
  },
  {
   "cell_type": "code",
   "execution_count": 28,
   "id": "628fc282",
   "metadata": {},
   "outputs": [
    {
     "data": {
      "text/plain": [
       "<AxesSubplot:xlabel='Date'>"
      ]
     },
     "execution_count": 28,
     "metadata": {},
     "output_type": "execute_result"
    },
    {
     "data": {
      "image/png": "[encoded data removed]",
      "text/plain": [
       "<Figure size 1080x432 with 1 Axes>"
      ]
     },
     "metadata": {
      "needs_background": "light"
     },
     "output_type": "display_data"
    }
   ],
   "source": [
    "gbe[gbe['Time of day'] == 'morning'].plot(figsize=(15,6))"
   ]
  },
  {
   "cell_type": "code",
   "execution_count": 30,
   "id": "38ca2944",
   "metadata": {},
   "outputs": [
    {
     "data": {
      "text/plain": [
       "<AxesSubplot:xlabel='Date'>"
      ]
     },
     "execution_count": 30,
     "metadata": {},
     "output_type": "execute_result"
    },
    {
     "data": {
      "image/png": "[encoded data removed]",
      "text/plain": [
       "<Figure size 1080x432 with 1 Axes>"
      ]
     },
     "metadata": {
      "needs_background": "light"
     },
     "output_type": "display_data"
    }
   ],
   "source": [
    "gbe[gbe['Time of day'] == 'night'].plot(figsize=(15,6))"
   ]
  },
  {
   "cell_type": "raw",
   "id": "44104df5",
   "metadata": {},
   "source": [
    "for Global Bank of Ethiopia\n",
    "\n",
    "When they promote in the morning has more views than in the night(mid night)"
   ]
  },
  {
   "cell_type": "code",
   "execution_count": 18,
   "id": "b459c6e9",
   "metadata": {},
   "outputs": [
    {
     "name": "stderr",
     "output_type": "stream",
     "text": [
      "/usr/lib/python3/dist-packages/scipy/__init__.py:146: UserWarning: A NumPy version >=1.17.3 and <1.25.0 is required for this version of SciPy (detected version 1.26.3\n",
      "  warnings.warn(f\"A NumPy version >={np_minversion} and <{np_maxversion}\"\n"
     ]
    },
    {
     "data": {
      "text/plain": [
       "Text(0.5, 1.0, 'Histogram')"
      ]
     },
     "execution_count": 18,
     "metadata": {},
     "output_type": "execute_result"
    },
    {
     "data": {
      "image/png": "[encoded data removed]",
      "text/plain": [
       "<Figure size 1080x432 with 1 Axes>"
      ]
     },
     "metadata": {
      "needs_background": "light"
     },
     "output_type": "display_data"
    }
   ],
   "source": [
    "\n",
    "import seaborn as sns\n",
    "\n",
    "plt.figure(figsize=(15,6))\n",
    "plt.subplot(2,2,1)\n",
    "sns.histplot(df['views'], kde=False)\n",
    "plt.title('Histogram')"
   ]
  },
  {
   "cell_type": "code",
   "execution_count": null,
   "id": "e15dd503",
   "metadata": {},
   "outputs": [],
   "source": []
  }
 ],
 "metadata": {
  "kernelspec": {
   "display_name": "Python 3 (ipykernel)",
   "language": "python",
   "name": "python3"
  },
  "language_info": {
   "codemirror_mode": {
    "name": "ipython",
    "version": 3
   },
   "file_extension": ".py",
   "mimetype": "text/x-python",
   "name": "python",
   "nbconvert_exporter": "python",
   "pygments_lexer": "ipython3",
   "version": "3.10.12"
  }
 },
 "nbformat": 4,
 "nbformat_minor": 5
}
